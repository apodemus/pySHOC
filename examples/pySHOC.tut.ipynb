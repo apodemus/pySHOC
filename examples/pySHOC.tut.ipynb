{
 "cells": [
  {
   "cell_type": "code",
   "execution_count": 1,
   "metadata": {
    "collapsed": false
   },
   "outputs": [
    {
     "name": "stdout",
     "output_type": "stream",
     "text": [
      "Using matplotlib backend: Qt5Agg\n",
      "Populating the interactive namespace from numpy and matplotlib\n"
     ]
    }
   ],
   "source": [
    "%load_ext autoreload\n",
    "%autoreload 2\n",
    "\n",
    "%matplotlib qt5\n",
    "%pylab --no-import-all"
   ]
  },
  {
   "cell_type": "code",
   "execution_count": 9,
   "metadata": {
    "collapsed": true
   },
   "outputs": [],
   "source": [
    "from collections import OrderedDict"
   ]
  },
  {
   "cell_type": "code",
   "execution_count": 1,
   "metadata": {
    "collapsed": false
   },
   "outputs": [
    {
     "name": "stdout",
     "output_type": "stream",
     "text": [
      "/home/hannes/work/pySHOC\n"
     ]
    },
    {
     "data": {
      "text/plain": [
       "'/home/hannes/work/pySHOC'"
      ]
     },
     "execution_count": 1,
     "metadata": {},
     "output_type": "execute_result"
    }
   ],
   "source": [
    "%cd ../\n",
    "%pwd"
   ]
  },
  {
   "cell_type": "code",
   "execution_count": 2,
   "metadata": {
    "collapsed": false
   },
   "outputs": [
    {
     "name": "stdout",
     "output_type": "stream",
     "text": [
      "Importing modules...\n",
      "modules 6.4606711864471436\n",
      "Done!\n",
      "\n",
      "\n"
     ]
    },
    {
     "ename": "ValueError",
     "evalue": "File ? contains no data!!",
     "output_type": "error",
     "traceback": [
      "\u001b[1;31m---------------------------------------------------------------------------\u001b[0m",
      "\u001b[1;31mValueError\u001b[0m                                Traceback (most recent call last)",
      "\u001b[1;32m/home/hannes/work/pySHOC/pipeline.py\u001b[0m in \u001b[0;36m<module>\u001b[1;34m()\u001b[0m\n\u001b[0;32m    932\u001b[0m     \u001b[0mbar\u001b[0m \u001b[1;33m=\u001b[0m \u001b[0mProgressBar\u001b[0m\u001b[1;33m(\u001b[0m\u001b[1;33m)\u001b[0m                     \u001b[1;31m#initialise progress bar\u001b[0m\u001b[1;33m\u001b[0m\u001b[0m\n\u001b[0;32m    933\u001b[0m     \u001b[1;31m#bar2 = ProgressBar(nbars=2)             #initialise the double progress bar\u001b[0m\u001b[1;33m\u001b[0m\u001b[1;33m\u001b[0m\u001b[0m\n\u001b[1;32m--> 934\u001b[1;33m     \u001b[0margs\u001b[0m\u001b[1;33m,\u001b[0m \u001b[0mhead_info\u001b[0m\u001b[1;33m,\u001b[0m \u001b[0mnames\u001b[0m \u001b[1;33m=\u001b[0m \u001b[0msetup\u001b[0m\u001b[1;33m(\u001b[0m\u001b[1;33m)\u001b[0m\u001b[1;33m\u001b[0m\u001b[0m\n\u001b[0m\u001b[0;32m    935\u001b[0m \u001b[1;33m\u001b[0m\u001b[0m\n\u001b[0;32m    936\u001b[0m     \u001b[1;32mraise\u001b[0m \u001b[0mSystemExit\u001b[0m\u001b[1;33m(\u001b[0m\u001b[1;34m'STOPPING'\u001b[0m\u001b[1;33m)\u001b[0m\u001b[1;33m\u001b[0m\u001b[0m\n",
      "\u001b[1;32m/home/hannes/work/pySHOC/pipeline.py\u001b[0m in \u001b[0;36msetup\u001b[1;34m()\u001b[0m\n\u001b[0;32m    732\u001b[0m \u001b[1;33m\u001b[0m\u001b[0m\n\u001b[0;32m    733\u001b[0m         \u001b[1;32mif\u001b[0m \u001b[1;32mnot\u001b[0m \u001b[0mlen\u001b[0m\u001b[1;33m(\u001b[0m\u001b[0margs\u001b[0m\u001b[1;33m.\u001b[0m\u001b[0mcubes\u001b[0m\u001b[1;33m)\u001b[0m\u001b[1;33m:\u001b[0m\u001b[1;33m\u001b[0m\u001b[0m\n\u001b[1;32m--> 734\u001b[1;33m             \u001b[1;32mraise\u001b[0m \u001b[0mValueError\u001b[0m\u001b[1;33m(\u001b[0m\u001b[1;34m'File {} contains no data!!'\u001b[0m\u001b[1;33m.\u001b[0m\u001b[0mformat\u001b[0m\u001b[1;33m(\u001b[0m\u001b[1;34m'?'\u001b[0m\u001b[1;33m)\u001b[0m\u001b[1;33m)\u001b[0m\u001b[1;33m\u001b[0m\u001b[0m\n\u001b[0m\u001b[0;32m    735\u001b[0m \u001b[1;33m\u001b[0m\u001b[0m\n\u001b[0;32m    736\u001b[0m         \u001b[0margs\u001b[0m\u001b[1;33m.\u001b[0m\u001b[0mcubes\u001b[0m \u001b[1;33m=\u001b[0m \u001b[0mSHOC_Run\u001b[0m\u001b[1;33m(\u001b[0m \u001b[0mfilenames\u001b[0m\u001b[1;33m=\u001b[0m\u001b[0margs\u001b[0m\u001b[1;33m.\u001b[0m\u001b[0mcubes\u001b[0m\u001b[1;33m,\u001b[0m \u001b[0mlabel\u001b[0m\u001b[1;33m=\u001b[0m\u001b[1;34m'science'\u001b[0m \u001b[1;33m)\u001b[0m\u001b[1;33m\u001b[0m\u001b[0m\n",
      "\u001b[1;31mValueError\u001b[0m: File ? contains no data!!"
     ]
    }
   ],
   "source": [
    "%run pipeline.py"
   ]
  },
  {
   "cell_type": "code",
   "execution_count": 3,
   "metadata": {
    "collapsed": false
   },
   "outputs": [
    {
     "data": {
      "text/plain": [
       "Namespace(bias=False, combine=['daily', 'mean'], cubes=[], dir='/home/hannes/work/pySHOC', flats=False, gps=None, interactive=False, kct=None, names=False, output_dir='/home/hannes/work/pySHOC', split=False, timing=True, update_headers=False, w2f=True)"
      ]
     },
     "execution_count": 3,
     "metadata": {},
     "output_type": "execute_result"
    }
   ],
   "source": []
  },
  {
   "cell_type": "code",
   "execution_count": 8,
   "metadata": {
    "collapsed": false
   },
   "outputs": [
    {
     "data": {
      "text/plain": [
       "{'bias': False,\n",
       " 'combine': ['daily', 'mean'],\n",
       " 'cubes': [],\n",
       " 'dir': '/home/hannes/work/pySHOC',\n",
       " 'flats': False,\n",
       " 'gps': None,\n",
       " 'interactive': False,\n",
       " 'kct': None,\n",
       " 'names': False,\n",
       " 'output_dir': '/home/hannes/work/pySHOC',\n",
       " 'split': False,\n",
       " 'timing': True,\n",
       " 'update_headers': False,\n",
       " 'w2f': True}"
      ]
     },
     "execution_count": 8,
     "metadata": {},
     "output_type": "execute_result"
    }
   ],
   "source": []
  },
  {
   "cell_type": "code",
   "execution_count": 10,
   "metadata": {
    "collapsed": false
   },
   "outputs": [
    {
     "data": {
      "text/plain": [
       "OrderedDict([('cubes', ['timing', 'flats', 'bias', 'update-headers']),\n",
       "             ('bias', ['cubes']),\n",
       "             ('flats', ['cubes']),\n",
       "             ('update-headers', ['cubes']),\n",
       "             ('split', ['cubes']),\n",
       "             ('timing', ['cubes', 'gps']),\n",
       "             ('ra', ['update-headers']),\n",
       "             ('dec', ['update-headers']),\n",
       "             ('obj', ['update-headers']),\n",
       "             ('epoch', ['update-headers', 'ra', 'dec']),\n",
       "             ('date', ['update-headers']),\n",
       "             ('filter', ['update-headers']),\n",
       "             ('kct', ['gps']),\n",
       "             ('combine', ['bias', 'flats'])])"
      ]
     },
     "execution_count": 10,
     "metadata": {},
     "output_type": "execute_result"
    }
   ],
   "source": [
    "required = (('cubes',            ['timing', 'flats', 'bias', 'update-headers']),\n",
    "            ('bias',             ['cubes']),\n",
    "            ('flats',            ['cubes']),\n",
    "            ('update-headers',   ['cubes']),\n",
    "            ('split',            ['cubes']),\n",
    "            ('timing',           ['cubes', 'gps']),\n",
    "            ('ra',               ['update-headers']),\n",
    "            ('dec',              ['update-headers']),\n",
    "            ('obj',              ['update-headers']),\n",
    "            ('epoch',            ['update-headers', 'ra', 'dec']),\n",
    "            ('date',             ['update-headers']),\n",
    "            ('filter',           ['update-headers']),\n",
    "            ('kct',              ['gps']),\n",
    "            ('combine',          ['bias', 'flats'])       )\n",
    "OrderedDict(required)"
   ]
  },
  {
   "cell_type": "code",
   "execution_count": null,
   "metadata": {
    "collapsed": true
   },
   "outputs": [],
   "source": []
  }
 ],
 "metadata": {
  "kernelspec": {
   "display_name": "Python 3",
   "language": "python",
   "name": "python3"
  },
  "language_info": {
   "codemirror_mode": {
    "name": "ipython",
    "version": 3
   },
   "file_extension": ".py",
   "mimetype": "text/x-python",
   "name": "python",
   "nbconvert_exporter": "python",
   "pygments_lexer": "ipython3",
   "version": "3.5.1+"
  }
 },
 "nbformat": 4,
 "nbformat_minor": 0
}
